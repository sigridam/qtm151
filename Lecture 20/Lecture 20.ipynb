{
 "cells": [
  {
   "attachments": {},
   "cell_type": "markdown",
   "metadata": {},
   "source": [
    "# <span style=\"color:darkblue\"> Lecture 20 - Connecting to SQL via Python </span>\n",
    "\n",
    "<font size = \"5\">\n",
    "\n",
    "In the past lectures:\n",
    "\n",
    "- We worked directly in SQL\n",
    "- Imported data\n",
    "- Carried out basic dataset operations\n",
    "\n",
    "In  this lecture we will run SQL from Python\n",
    "\n",
    "- Combine the best of both!\n",
    "- Learn about escape characters!"
   ]
  },
  {
   "cell_type": "markdown",
   "metadata": {},
   "source": [
    "# <span style=\"color:darkblue\"> I. Import Libraries and Data </span>\n"
   ]
  },
  {
   "attachments": {},
   "cell_type": "markdown",
   "metadata": {},
   "source": [
    "<font size = \"5\">\n",
    "\n",
    "Install new libraries to connect to SQL from Python:\n",
    "\n",
    "- psycopg2\n",
    "- sqlalchemy"
   ]
  },
  {
   "cell_type": "code",
   "execution_count": 1,
   "metadata": {},
   "outputs": [],
   "source": [
    "# With base Python, run the following commands in the terminal\n",
    "# (i)     pip3 install psycopg2\n",
    "# (ii)    pip3 install sqlalchemy\n",
    "# If (i) doesn't work, instead try\n",
    "#         pip3 install psycopg2-binary           OR\n",
    "#         pip3 install psycopg2-binary --user\n",
    "\n",
    "# For Anaconda: Open the \"Anaconda Navigator\" app and go the \"Environment\" tab\n",
    "# Check whether \"psycopg2\", \"sqlalchemy\" appear in the \"installed\" panel\n",
    "# Otherwise, search in the \"Not installed\" panel and install them"
   ]
  },
  {
   "attachments": {},
   "cell_type": "markdown",
   "metadata": {},
   "source": [
    "<font size = \"5\">\n",
    "\n",
    "Import libraries"
   ]
  },
  {
   "cell_type": "code",
   "execution_count": 24,
   "metadata": {},
   "outputs": [],
   "source": [
    "# psycogpg2 helps us process SQL commands to send to the server\n",
    "# sqlalchemy facilitates establishing a connection with the server\n",
    "\n",
    "import pandas as pd\n",
    "import psycopg2\n",
    "import sqlalchemy as sa\n",
    "from   sqlalchemy.engine import URL\n",
    "from   sqlalchemy import text"
   ]
  },
  {
   "attachments": {},
   "cell_type": "markdown",
   "metadata": {},
   "source": [
    "<font size = \"5\">\n",
    "\n",
    "Import Data"
   ]
  },
  {
   "cell_type": "code",
   "execution_count": 25,
   "metadata": {},
   "outputs": [],
   "source": [
    "# Import the two car racing datasets\n",
    "\n",
    "results  = pd.read_csv(\"data_raw/results.csv\")\n",
    "races    = pd.read_csv(\"data_raw/races.csv\")\n",
    "circuits = pd.read_csv(\"data_raw/circuits.csv\")"
   ]
  },
  {
   "attachments": {},
   "cell_type": "markdown",
   "metadata": {},
   "source": [
    "<font size = \"5\">\n",
    "\n",
    "Connect to SQL server"
   ]
  },
  {
   "cell_type": "code",
   "execution_count": 26,
   "metadata": {},
   "outputs": [],
   "source": [
    "# Use the connection details to your server\n",
    "# These are the default settings.\n",
    "# \"postgresql\" is a fixed argument\n",
    "# If you have a different host,database, username, or password,\n",
    "# change the corresponding connection details\n",
    "\n",
    "url_server = URL.create(\n",
    "    \"postgresql\",\n",
    "    host = 'localhost',\n",
    "    database = 'postgres',\n",
    "    username = 'postgres',\n",
    "    port = 5432,\n",
    "    password  = '12345')\n",
    "\n",
    "con = sa.create_engine(url_server).connect()\n"
   ]
  },
  {
   "attachments": {},
   "cell_type": "markdown",
   "metadata": {},
   "source": [
    "<font size = \"5\">\n",
    "\n",
    "Upload data to SQL"
   ]
  },
  {
   "cell_type": "code",
   "execution_count": 27,
   "metadata": {},
   "outputs": [
    {
     "data": {
      "text/plain": [
       "102"
      ]
     },
     "execution_count": 27,
     "metadata": {},
     "output_type": "execute_result"
    }
   ],
   "source": [
    "# Import the \"results\" table, with the name \"results_sql\"\n",
    "# Con is an argument to specify the server connection\n",
    "# \"if_exists\" is an option to replace the table if it already exists\n",
    "# You can choose any name instead of \"results_sql\"\n",
    "\n",
    "results.to_sql('results_sql',\n",
    "               con = con,\n",
    "               if_exists='replace')\n",
    "\n",
    "# Import \"races\"\n",
    "races.to_sql('races_sql',con, if_exists='replace')"
   ]
  },
  {
   "attachments": {},
   "cell_type": "markdown",
   "metadata": {},
   "source": [
    "<font size = \"5\">\n",
    "\n",
    "Try it yourself!\n",
    "\n",
    "- Upload the \"circuits table\" into SQL <br>\n",
    "using \".to_sql()\""
   ]
  },
  {
   "cell_type": "code",
   "execution_count": 28,
   "metadata": {},
   "outputs": [
    {
     "data": {
      "text/plain": [
       "77"
      ]
     },
     "execution_count": 28,
     "metadata": {},
     "output_type": "execute_result"
    }
   ],
   "source": [
    "# Write your own code\n",
    "circuits.to_sql('circuits_sql',con, if_exists='replace')\n",
    "\n",
    "\n"
   ]
  },
  {
   "attachments": {},
   "cell_type": "markdown",
   "metadata": {},
   "source": [
    "# <span style=\"color:darkblue\"> II. \"Escape\" Characters </span>\n",
    "\n",
    "<font size = \"5\">\n",
    "\n",
    "- Backslash (\\\\) is known as an escape character\n",
    "- Used for special operations on strings\n",
    "- Great for working with text!"
   ]
  },
  {
   "attachments": {},
   "cell_type": "markdown",
   "metadata": {},
   "source": [
    "<font size = \"5\">\n",
    "\n",
    "Multi-line strings (\" \\ \")"
   ]
  },
  {
   "cell_type": "code",
   "execution_count": 29,
   "metadata": {},
   "outputs": [],
   "source": [
    "# Use a backslash to define strins over multiple lines\n",
    "# Do not include a space after \"\\\", otherwise it won't work.\n",
    "example_string = \"This is a string \\\n",
    "                  defined over multiple lines\""
   ]
  },
  {
   "attachments": {},
   "cell_type": "markdown",
   "metadata": {},
   "source": [
    "<font size = \"5\">\n",
    "\n",
    "\"Double quotes\" inside string"
   ]
  },
  {
   "cell_type": "code",
   "execution_count": 30,
   "metadata": {},
   "outputs": [
    {
     "name": "stdout",
     "output_type": "stream",
     "text": [
      "This will \"supposedly\" put double quotes inside a string\n"
     ]
    }
   ],
   "source": [
    "# Use a backslash + quotation \n",
    "\n",
    "example_double = \"This will \\\"supposedly\\\" put double quotes inside a string\"\n",
    "print(example_double)"
   ]
  },
  {
   "attachments": {},
   "cell_type": "markdown",
   "metadata": {},
   "source": [
    "<font size = \"5\" >\n",
    "'Single quotes' inside string"
   ]
  },
  {
   "cell_type": "code",
   "execution_count": 31,
   "metadata": {},
   "outputs": [
    {
     "name": "stdout",
     "output_type": "stream",
     "text": [
      "This will 'supposedly' put single quotes inside a string\n"
     ]
    }
   ],
   "source": [
    "# There is no need for a backslash given single quotes \n",
    "\n",
    "example_single = \"This will 'supposedly' put single quotes inside a string\"\n",
    "print(example_single)"
   ]
  },
  {
   "attachments": {},
   "cell_type": "markdown",
   "metadata": {},
   "source": [
    "<font size = \"5\">\n",
    "\n",
    "Try it yourself!\n",
    "\n",
    "- Print a string ``` SELECT \"driverId\" FROM results; ``` <br> \n",
    "using backslash"
   ]
  },
  {
   "cell_type": "code",
   "execution_count": 32,
   "metadata": {},
   "outputs": [
    {
     "name": "stdout",
     "output_type": "stream",
     "text": [
      "SELECT \"driverId\" FROM results\n"
     ]
    }
   ],
   "source": [
    "# Write your own code\n",
    "\n",
    "string1 = \"SELECT \\\"driverId\\\" FROM results\"\n",
    "print(string1)\n",
    "\n"
   ]
  },
  {
   "attachments": {},
   "cell_type": "markdown",
   "metadata": {},
   "source": [
    "# <span style=\"color:darkblue\"> II. Data operations </span>\n",
    "\n",
    "<font size = \"5\">\n",
    "\n",
    "- In SQL, operations are often called \"queries\"\n"
   ]
  },
  {
   "attachments": {},
   "cell_type": "markdown",
   "metadata": {},
   "source": [
    "<font size = \"5\">\n",
    "\n",
    "Import Data from SQL"
   ]
  },
  {
   "cell_type": "code",
   "execution_count": 33,
   "metadata": {},
   "outputs": [],
   "source": [
    "# Use \"pd.read_sql()\"\n",
    "# - The first argument is string with instructions wrapped in text()\n",
    "#- The second argument is the server connection\n",
    "\n",
    "# Extract all data from a column\n",
    "example1 = pd.read_sql(text(\"SELECT * FROM results_sql;\"),con)\n",
    "\n",
    "# Extract a subset of columns\n",
    "example2 = pd.read_sql(text(\"SELECT points \\\n",
    "                             FROM results_sql;\"),con)\n",
    "\n",
    "# Subset based on a string condition\n",
    "example3 = pd.read_sql(text(\"SELECT * \\\n",
    "                             FROM races_sql \\\n",
    "                             WHERE name = 'Abu Dhabi Grand Prix';\"),con)\n",
    "\n",
    "# Note: (i) Remember to include \"\\\"  to be able to define\n",
    "#           strings over multiple lines\n",
    "#       (ii) We can include single quotations in the WHERE command\n",
    "#            without any additional escape characters"
   ]
  },
  {
   "attachments": {},
   "cell_type": "markdown",
   "metadata": {},
   "source": [
    "<font size = \"5\">\n",
    "\n",
    "Upper case columns\n",
    "\n",
    "- In SQL syntax we use double quotes e.g. ``` \"driverId\" ```\n",
    "- ```.read_sql()``` requires a string inside a string\n",
    "- To do so, use escape characters, e.g.   ``` \\\"driverId\\\" ```"
   ]
  },
  {
   "cell_type": "code",
   "execution_count": 34,
   "metadata": {},
   "outputs": [],
   "source": [
    "# Select a column\n",
    "example4 = pd.read_sql(text(\"SELECT \\\"driverId\\\" \\\n",
    "                             FROM results_sql;\"),con)\n",
    "\n",
    "# Compute an aggregate statistic\n",
    "example5 = pd.read_sql(text(\"SELECT AVG(points) as mean_points \\\n",
    "                             FROM results_sql \\\n",
    "                             GROUP BY \\\"driverId\\\" ;\"),con)\n"
   ]
  },
  {
   "attachments": {},
   "cell_type": "markdown",
   "metadata": {},
   "source": [
    "<font size = \"5\">\n",
    "\n",
    "Merge two datasets"
   ]
  },
  {
   "cell_type": "code",
   "execution_count": 35,
   "metadata": {},
   "outputs": [],
   "source": [
    "# Merge \n",
    "# Reference the column \\\"driverId\\\" with escape characters\n",
    "example6 = pd.read_sql(text(\"SELECT * \\\n",
    "                             FROM results_sql \\\n",
    "                             LEFT JOIN races_sql \\\n",
    "                             ON results_sql.\\\"raceId\\\" = races_sql.\\\"raceId\\\" ;\"),con)\n",
    "\n",
    "# Merge a subset of columns\n",
    "# Use \"results_sql.*\" to select all columns from the primary dataset\n",
    "# Use \"races_sql.date\" to only select the \"date\" column from the secondary dataset \n",
    "\n",
    "example7 = pd.read_sql(text(\"SELECT results_sql.*, races_sql.date \\\n",
    "                             FROM results_sql \\\n",
    "                             LEFT JOIN races_sql \\\n",
    "                             ON results_sql.\\\"raceId\\\" = races_sql.\\\"raceId\\\" ;\"),con)\n"
   ]
  },
  {
   "attachments": {},
   "cell_type": "markdown",
   "metadata": {},
   "source": [
    "<font size = \"5\">\n",
    "\n",
    "Try it yourself!\n",
    "\n",
    "- Practice the ```pd.read_sql()``` command\n",
    "- FROM results_sql compute the sum of points by <br>\n",
    "\"raceId\" <br>"
   ]
  },
  {
   "cell_type": "code",
   "execution_count": 36,
   "metadata": {},
   "outputs": [
    {
     "name": "stdout",
     "output_type": "stream",
     "text": [
      "     total_points\n",
      "0           422.0\n",
      "1             0.0\n",
      "2            18.0\n",
      "3             5.0\n",
      "4            32.0\n",
      "..            ...\n",
      "850           0.0\n",
      "851          10.0\n",
      "852           3.0\n",
      "853         241.0\n",
      "854           0.0\n",
      "\n",
      "[855 rows x 1 columns]\n"
     ]
    }
   ],
   "source": [
    "# Write your own code\n",
    "\n",
    "sum_race_id= pd.read_sql(text(\"SELECT SUM(points) as total_points  \\\n",
    "                              FROM results_sql \\\n",
    "                              GROUP BY \\\"driverId\\\";\"),con)\n",
    "print(sum_race_id)\n",
    "\n",
    "\n"
   ]
  },
  {
   "attachments": {},
   "cell_type": "markdown",
   "metadata": {},
   "source": [
    "<font size = \"5\">\n",
    "\n",
    "Try it yourself!\n",
    "\n",
    "- Practice the ```pd.read_sql()``` command\n",
    "- Merge \"races_sql\" and the circuits table on \"circuitId\" <br>\n",
    "tha you imported above using ```LEFT JOIN```"
   ]
  },
  {
   "cell_type": "code",
   "execution_count": 38,
   "metadata": {},
   "outputs": [
    {
     "name": "stdout",
     "output_type": "stream",
     "text": [
      "     index  raceId  year  round circuitId                      name  \\\n",
      "0        0       1  2009      1         1     Australian Grand Prix   \n",
      "1        1       2  2009      2         2      Malaysian Grand Prix   \n",
      "2        2       3  2009      3        17        Chinese Grand Prix   \n",
      "3        3       4  2009      4         3        Bahrain Grand Prix   \n",
      "4        4       5  2009      5         4        Spanish Grand Prix   \n",
      "...    ...     ...   ...    ...       ...                       ...   \n",
      "1097  1097    1116  2023     19        69  United States Grand Prix   \n",
      "1098  1098    1117  2023     20        32    Mexico City Grand Prix   \n",
      "1099  1099    1118  2023     21        18      São Paulo Grand Prix   \n",
      "1100  1100    1119  2023     22        80      Las Vegas Grand Prix   \n",
      "1101  1101    1120  2023     23        24      Abu Dhabi Grand Prix   \n",
      "\n",
      "            date      time                                                url  \\\n",
      "0     2009-03-29  06:00:00  http://en.wikipedia.org/wiki/2009_Australian_G...   \n",
      "1     2009-04-05  09:00:00  http://en.wikipedia.org/wiki/2009_Malaysian_Gr...   \n",
      "2     2009-04-19  07:00:00  http://en.wikipedia.org/wiki/2009_Chinese_Gran...   \n",
      "3     2009-04-26  12:00:00  http://en.wikipedia.org/wiki/2009_Bahrain_Gran...   \n",
      "4     2009-05-10  12:00:00  http://en.wikipedia.org/wiki/2009_Spanish_Gran...   \n",
      "...          ...       ...                                                ...   \n",
      "1097  2023-10-22  19:00:00  https://en.wikipedia.org/wiki/2023_United_Stat...   \n",
      "1098  2023-10-29  20:00:00  https://en.wikipedia.org/wiki/2023_Mexico_City...   \n",
      "1099  2023-11-05  17:00:00  https://en.wikipedia.org/wiki/2023_S%C3%A3o_Pa...   \n",
      "1100  2023-11-19  06:00:00  https://en.wikipedia.org/wiki/2023_Las_Vegas_G...   \n",
      "1101  2023-11-26  13:00:00  https://en.wikipedia.org/wiki/2023_Abu_Dhabi_G...   \n",
      "\n",
      "        fp1_date  ... index circuitId   circuitRef  \\\n",
      "0             \\N  ...     0         1  albert_park   \n",
      "1             \\N  ...     1         2       sepang   \n",
      "2             \\N  ...    16        17     shanghai   \n",
      "3             \\N  ...     2         3      bahrain   \n",
      "4             \\N  ...     3         4    catalunya   \n",
      "...          ...  ...   ...       ...          ...   \n",
      "1097  2023-10-20  ...    68        69     americas   \n",
      "1098  2023-10-27  ...    31        32    rodriguez   \n",
      "1099  2023-11-03  ...    17        18   interlagos   \n",
      "1100  2023-11-17  ...    22        80        vegas   \n",
      "1101  2023-11-24  ...    23        24   yas_marina   \n",
      "\n",
      "                                name      location        country       lat  \\\n",
      "0     Albert Park Grand Prix Circuit     Melbourne      Australia -37.84970   \n",
      "1       Sepang International Circuit  Kuala Lumpur       Malaysia   2.76083   \n",
      "2     Shanghai International Circuit      Shanghai          China  31.33890   \n",
      "3      Bahrain International Circuit        Sakhir        Bahrain  26.03250   \n",
      "4     Circuit de Barcelona-Catalunya      Montmeló          Spain  41.57000   \n",
      "...                              ...           ...            ...       ...   \n",
      "1097         Circuit of the Americas        Austin            USA  30.13280   \n",
      "1098    Autódromo Hermanos Rodríguez   Mexico City         Mexico  19.40420   \n",
      "1099      Autódromo José Carlos Pace     São Paulo         Brazil -23.70360   \n",
      "1100  Las Vegas Strip Street Circuit     Las Vegas  United States  36.11470   \n",
      "1101              Yas Marina Circuit     Abu Dhabi            UAE  24.46720   \n",
      "\n",
      "            lng   alt                                                url  \n",
      "0     144.96800    10  http://en.wikipedia.org/wiki/Melbourne_Grand_P...  \n",
      "1     101.73800    18  http://en.wikipedia.org/wiki/Sepang_Internatio...  \n",
      "2     121.22000     5  http://en.wikipedia.org/wiki/Shanghai_Internat...  \n",
      "3      50.51060     7  http://en.wikipedia.org/wiki/Bahrain_Internati...  \n",
      "4       2.26111   109  http://en.wikipedia.org/wiki/Circuit_de_Barcel...  \n",
      "...         ...   ...                                                ...  \n",
      "1097  -97.64110   161  http://en.wikipedia.org/wiki/Circuit_of_the_Am...  \n",
      "1098  -99.09070  2227  http://en.wikipedia.org/wiki/Aut%C3%B3dromo_He...  \n",
      "1099  -46.69970   785  http://en.wikipedia.org/wiki/Aut%C3%B3dromo_Jo...  \n",
      "1100 -115.17300    \\N  https://en.wikipedia.org/wiki/Las_Vegas_Grand_...  \n",
      "1101   54.60310     3    http://en.wikipedia.org/wiki/Yas_Marina_Circuit  \n",
      "\n",
      "[1102 rows x 29 columns]\n"
     ]
    }
   ],
   "source": [
    "# Write your own\n",
    "\n",
    "races_circuits = pd.read_sql(text(\"SELECT * \\\n",
    "                                  FROM races_sql \\\n",
    "                                  LEFT JOIN circuits_sql \\\n",
    "                                  ON races_sql.\\\"circuitId\\\" = circuits_sql.\\\"circuitId\\\" ;\"),con)\n",
    "print(races_circuits)\n",
    "\n",
    "\n"
   ]
  },
  {
   "attachments": {},
   "cell_type": "markdown",
   "metadata": {},
   "source": [
    "# <span style=\"color:darkblue\"> IV. Additional Material </span>\n",
    "\n",
    "<font size = \"5\">\n",
    "\n",
    "More about SQL syntax\n",
    "\n",
    "https://www.w3schools.com/sql/"
   ]
  }
 ],
 "metadata": {
  "kernelspec": {
   "display_name": "Python 3",
   "language": "python",
   "name": "python3"
  },
  "language_info": {
   "codemirror_mode": {
    "name": "ipython",
    "version": 3
   },
   "file_extension": ".py",
   "mimetype": "text/x-python",
   "name": "python",
   "nbconvert_exporter": "python",
   "pygments_lexer": "ipython3",
   "version": "3.10.10"
  },
  "orig_nbformat": 4,
  "vscode": {
   "interpreter": {
    "hash": "fdd7236ea7b798d9efaa5f3bdde34f45e46f9fc1144f52a3a0757fc6c8325581"
   }
  }
 },
 "nbformat": 4,
 "nbformat_minor": 2
}
